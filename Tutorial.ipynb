{
 "cells": [
  {
   "cell_type": "markdown",
   "id": "523ecd23",
   "metadata": {},
   "source": [
    "# Run scFseCluster"
   ]
  },
  {
   "cell_type": "code",
   "execution_count": 1,
   "id": "179a6251",
   "metadata": {},
   "outputs": [
    {
     "name": "stdout",
     "output_type": "stream",
     "text": [
      "D:\\py_workspace\\scFseCluster\\code\\scFseCluster\n"
     ]
    }
   ],
   "source": [
    "%cd scFseCluster\n",
    "import pandas as pd\n",
    "from Preprocessing import read_data\n",
    "from FSQSSA import FSQSSA\n",
    "from sklearn.cluster import KMeans"
   ]
  },
  {
   "cell_type": "code",
   "execution_count": 2,
   "id": "191774ab",
   "metadata": {},
   "outputs": [
    {
     "name": "stdout",
     "output_type": "stream",
     "text": [
      "data shape = (124, 41428)\n",
      "HVG expression matrix shape = (124, 2000)\n",
      "Evaluate the number of K...\n"
     ]
    },
    {
     "name": "stdout",
     "output_type": "stream",
     "text": [
      "label is none. k = 6\n"
     ]
    }
   ],
   "source": [
    "# read and preprocess data\n",
    "data_path = \"../scRNA-seq data/Goolam/no_filter_count.csv\"\n",
    "data, label, k = read_data(data_path)"
   ]
  },
  {
   "cell_type": "code",
   "execution_count": 3,
   "id": "62d51152",
   "metadata": {},
   "outputs": [
    {
     "name": "stdout",
     "output_type": "stream",
     "text": [
      "=================== Run FSQSSA ===================\n",
      "epoch 0 : fitness = 0.5634615210950374 , sc = 0.5712350234389305 , feature = 1013\n",
      "epoch 1 : fitness = 0.5642956677377224 , sc = 0.5667174085974693 , feature = 915\n",
      "epoch 2 : fitness = 0.5702550400078297 , sc = 0.5774500444531441 , feature = 989\n",
      "epoch 3 : fitness = 0.5704386078536511 , sc = 0.5774873420596123 , feature = 986\n",
      "epoch 4 : fitness = 0.5706073931038379 , sc = 0.5775637701153755 , feature = 984\n",
      "epoch 5 : fitness = 0.5708480296552182 , sc = 0.577386699616909 , feature = 976\n",
      "epoch 6 : fitness = 0.5711196337640286 , sc = 0.5776329264044762 , feature = 975\n",
      "epoch 7 : fitness = 0.5711370784521104 , sc = 0.5775967538356781 , feature = 974\n",
      "epoch 8 : fitness = 0.5713633564829828 , sc = 0.5771259516477585 , feature = 961\n",
      "epoch 9 : fitness = 0.5713633564829828 , sc = 0.5771259516477585 , feature = 961\n",
      "epoch 10 : fitness = 0.5713633564829828 , sc = 0.5771259516477585 , feature = 961\n",
      "epoch 11 : fitness = 0.5720803326964379 , sc = 0.5775892585515976 , feature = 955\n",
      "epoch 12 : fitness = 0.5723348304748536 , sc = 0.5779275894165039 , feature = 956\n",
      "epoch 13 : fitness = 0.5724838947832585 , sc = 0.5779821053147316 , feature = 954\n",
      "epoch 14 : fitness = 0.5724838947832585 , sc = 0.5779821053147316 , feature = 954\n",
      "epoch 15 : fitness = 0.5724838947832585 , sc = 0.5779821053147316 , feature = 954\n",
      "epoch 16 : fitness = 0.5724838947832585 , sc = 0.5779821053147316 , feature = 954\n",
      "epoch 17 : fitness = 0.5724838947832585 , sc = 0.5779821053147316 , feature = 954\n",
      "epoch 18 : fitness = 0.5724838947832585 , sc = 0.5779821053147316 , feature = 954\n",
      "epoch 19 : fitness = 0.5726649553060532 , sc = 0.5779055058956146 , feature = 949\n",
      "epoch 20 : fitness = 0.5729518418431282 , sc = 0.5780576020479202 , feature = 946\n",
      "epoch 21 : fitness = 0.5734813398063183 , sc = 0.578701488673687 , feature = 947\n",
      "epoch 22 : fitness = 0.5735634897053241 , sc = 0.578681655228138 , feature = 945\n",
      "epoch 23 : fitness = 0.5736491161465644 , sc = 0.5787212401628494 , feature = 944\n",
      "epoch 24 : fitness = 0.5736491161465644 , sc = 0.5787212401628494 , feature = 944\n",
      "epoch 25 : fitness = 0.5736491161465644 , sc = 0.5787212401628494 , feature = 944\n",
      "epoch 26 : fitness = 0.5736491161465644 , sc = 0.5787212401628494 , feature = 944\n",
      "epoch 27 : fitness = 0.573683744007349 , sc = 0.57864860445261 , feature = 942\n",
      "epoch 28 : fitness = 0.573683744007349 , sc = 0.57864860445261 , feature = 942\n",
      "epoch 29 : fitness = 0.5737077601075173 , sc = 0.5786197334527969 , feature = 941\n",
      "epoch 30 : fitness = 0.5737077601075173 , sc = 0.5786197334527969 , feature = 941\n",
      "epoch 31 : fitness = 0.5737077601075173 , sc = 0.5786197334527969 , feature = 941\n",
      "epoch 32 : fitness = 0.5737077601075173 , sc = 0.5786197334527969 , feature = 941\n",
      "epoch 33 : fitness = 0.5737077601075173 , sc = 0.5786197334527969 , feature = 941\n",
      "epoch 34 : fitness = 0.5737077601075173 , sc = 0.5786197334527969 , feature = 941\n",
      "epoch 35 : fitness = 0.5737077601075173 , sc = 0.5786197334527969 , feature = 941\n",
      "epoch 36 : fitness = 0.5737077601075173 , sc = 0.5786197334527969 , feature = 941\n",
      "epoch 37 : fitness = 0.5737077601075173 , sc = 0.5786197334527969 , feature = 941\n",
      "epoch 38 : fitness = 0.5737077601075173 , sc = 0.5786197334527969 , feature = 941\n",
      "epoch 39 : fitness = 0.5737077601075173 , sc = 0.5786197334527969 , feature = 941\n",
      "epoch 40 : fitness = 0.5737077601075173 , sc = 0.5786197334527969 , feature = 941\n",
      "epoch 41 : fitness = 0.5737077601075173 , sc = 0.5786197334527969 , feature = 941\n",
      "epoch 42 : fitness = 0.5737077601075173 , sc = 0.5786197334527969 , feature = 941\n",
      "epoch 43 : fitness = 0.5737077601075173 , sc = 0.5786197334527969 , feature = 941\n",
      "epoch 44 : fitness = 0.5737077601075173 , sc = 0.5786197334527969 , feature = 941\n",
      "epoch 45 : fitness = 0.5737077601075173 , sc = 0.5786197334527969 , feature = 941\n",
      "epoch 46 : fitness = 0.5737077601075173 , sc = 0.5786197334527969 , feature = 941\n",
      "epoch 47 : fitness = 0.5737077601075173 , sc = 0.5786197334527969 , feature = 941\n",
      "epoch 48 : fitness = 0.5737077601075173 , sc = 0.5786197334527969 , feature = 941\n",
      "epoch 49 : fitness = 0.573869969779253 , sc = 0.5788555219769478 , feature = 942\n",
      "epoch 50 : fitness = 0.5739765143692495 , sc = 0.5788627937436104 , feature = 940\n",
      "epoch 51 : fitness = 0.5740186188876629 , sc = 0.5787984654307365 , feature = 938\n",
      "epoch 52 : fitness = 0.5740186188876629 , sc = 0.5787984654307365 , feature = 938\n",
      "epoch 53 : fitness = 0.5741107997059822 , sc = 0.5789008885622025 , feature = 938\n",
      "epoch 54 : fitness = 0.5741107997059822 , sc = 0.5789008885622025 , feature = 938\n",
      "epoch 55 : fitness = 0.5741107997059822 , sc = 0.5789008885622025 , feature = 938\n",
      "epoch 56 : fitness = 0.5741107997059822 , sc = 0.5789008885622025 , feature = 938\n",
      "epoch 57 : fitness = 0.5741107997059822 , sc = 0.5789008885622025 , feature = 938\n",
      "epoch 58 : fitness = 0.5741107997059822 , sc = 0.5789008885622025 , feature = 938\n",
      "epoch 59 : fitness = 0.5741107997059822 , sc = 0.5789008885622025 , feature = 938\n",
      "epoch 60 : fitness = 0.5741107997059822 , sc = 0.5789008885622025 , feature = 938\n",
      "epoch 61 : fitness = 0.5741107997059822 , sc = 0.5789008885622025 , feature = 938\n",
      "epoch 62 : fitness = 0.5741107997059822 , sc = 0.5789008885622025 , feature = 938\n",
      "epoch 63 : fitness = 0.5741107997059822 , sc = 0.5789008885622025 , feature = 938\n",
      "epoch 64 : fitness = 0.5741107997059822 , sc = 0.5789008885622025 , feature = 938\n",
      "epoch 65 : fitness = 0.5741107997059822 , sc = 0.5789008885622025 , feature = 938\n",
      "epoch 66 : fitness = 0.5741107997059822 , sc = 0.5789008885622025 , feature = 938\n",
      "epoch 67 : fitness = 0.5741107997059822 , sc = 0.5789008885622025 , feature = 938\n",
      "epoch 68 : fitness = 0.5741107997059822 , sc = 0.5789008885622025 , feature = 938\n",
      "epoch 69 : fitness = 0.5741107997059822 , sc = 0.5789008885622025 , feature = 938\n",
      "epoch 70 : fitness = 0.5741107997059822 , sc = 0.5789008885622025 , feature = 938\n",
      "epoch 71 : fitness = 0.5741107997059822 , sc = 0.5789008885622025 , feature = 938\n",
      "epoch 72 : fitness = 0.574214127099514 , sc = 0.5792934745550156 , feature = 943\n",
      "epoch 73 : fitness = 0.5743045211672783 , sc = 0.5793383568525314 , feature = 942\n",
      "epoch 74 : fitness = 0.5743427359402179 , sc = 0.5793808177113533 , feature = 942\n",
      "epoch 75 : fitness = 0.5743427359402179 , sc = 0.5793808177113533 , feature = 942\n",
      "epoch 76 : fitness = 0.5743427359402179 , sc = 0.5793808177113533 , feature = 942\n",
      "epoch 77 : fitness = 0.5743427359402179 , sc = 0.5793808177113533 , feature = 942\n",
      "epoch 78 : fitness = 0.5743427359402179 , sc = 0.5793808177113533 , feature = 942\n",
      "epoch 79 : fitness = 0.5743427359402179 , sc = 0.5793808177113533 , feature = 942\n",
      "epoch 80 : fitness = 0.5743427359402179 , sc = 0.5793808177113533 , feature = 942\n",
      "epoch 81 : fitness = 0.5743427359402179 , sc = 0.5793808177113533 , feature = 942\n",
      "epoch 82 : fitness = 0.5743427359402179 , sc = 0.5793808177113533 , feature = 942\n",
      "epoch 83 : fitness = 0.5743573875069617 , sc = 0.5793970972299576 , feature = 942\n",
      "epoch 84 : fitness = 0.574404618126154 , sc = 0.579394020140171 , feature = 941\n",
      "epoch 85 : fitness = 0.5744239171624184 , sc = 0.5793043524026871 , feature = 939\n",
      "epoch 86 : fitness = 0.5744239171624184 , sc = 0.5793043524026871 , feature = 939\n",
      "epoch 87 : fitness = 0.5744239171624184 , sc = 0.5793043524026871 , feature = 939\n",
      "epoch 88 : fitness = 0.5744239171624184 , sc = 0.5793043524026871 , feature = 939\n",
      "epoch 89 : fitness = 0.5744239171624184 , sc = 0.5793043524026871 , feature = 939\n",
      "epoch 90 : fitness = 0.5744239171624184 , sc = 0.5793043524026871 , feature = 939\n",
      "epoch 91 : fitness = 0.5744239171624184 , sc = 0.5793043524026871 , feature = 939\n",
      "epoch 92 : fitness = 0.5744239171624184 , sc = 0.5793043524026871 , feature = 939\n",
      "epoch 93 : fitness = 0.5744239171624184 , sc = 0.5793043524026871 , feature = 939\n",
      "epoch 94 : fitness = 0.5744239171624184 , sc = 0.5793043524026871 , feature = 939\n",
      "epoch 95 : fitness = 0.5744239171624184 , sc = 0.5793043524026871 , feature = 939\n",
      "epoch 96 : fitness = 0.5744239171624184 , sc = 0.5793043524026871 , feature = 939\n",
      "epoch 97 : fitness = 0.5744239171624184 , sc = 0.5793043524026871 , feature = 939\n",
      "epoch 98 : fitness = 0.5744239171624184 , sc = 0.5793043524026871 , feature = 939\n",
      "epoch 99 : fitness = 0.5744239171624184 , sc = 0.5793043524026871 , feature = 939\n"
     ]
    },
    {
     "name": "stdout",
     "output_type": "stream",
     "text": [
      "epoch 100 : fitness = 0.5744239171624184 , sc = 0.5793043524026871 , feature = 939\n"
     ]
    }
   ],
   "source": [
    "# run FSQSSA\n",
    "print(\"=================== Run FSQSSA ===================\")\n",
    "fsqssa = FSQSSA(data=data, k=k)\n",
    "subset = fsqssa.run_task()"
   ]
  },
  {
   "cell_type": "code",
   "execution_count": 7,
   "id": "3635e0e0",
   "metadata": {},
   "outputs": [],
   "source": [
    "# Cluster\n",
    "kmeans = KMeans(n_clusters=k, random_state=42).fit(subset) \n",
    "cluster_label = pd.DataFrame(kmeans.labels_, columns=[\"type\"])\n",
    "# save file\n",
    "cluster_label.to_csv(\"result/cluster_label.csv\")"
   ]
  },
  {
   "cell_type": "markdown",
   "id": "b38923c5",
   "metadata": {},
   "source": [
    "Then you can use plot_scFseCluster.R to plot the scatter plot"
   ]
  }
 ],
 "metadata": {
  "kernelspec": {
   "display_name": "RLFS",
   "language": "python",
   "name": "rlfs"
  },
  "language_info": {
   "codemirror_mode": {
    "name": "ipython",
    "version": 3
   },
   "file_extension": ".py",
   "mimetype": "text/x-python",
   "name": "python",
   "nbconvert_exporter": "python",
   "pygments_lexer": "ipython3",
   "version": "3.7.11"
  }
 },
 "nbformat": 4,
 "nbformat_minor": 5
}
